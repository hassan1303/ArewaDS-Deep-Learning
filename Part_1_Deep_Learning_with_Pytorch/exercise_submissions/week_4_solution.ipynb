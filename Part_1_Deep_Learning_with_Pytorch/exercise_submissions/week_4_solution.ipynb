{
  "cells": [
    {
      "cell_type": "markdown",
      "id": "69f4560e0d14c08f",
      "metadata": {
        "id": "69f4560e0d14c08f"
      },
      "source": []
    },
    {
      "cell_type": "markdown",
      "id": "3d98767caebc0414",
      "metadata": {
        "id": "3d98767caebc0414"
      },
      "source": []
    },
    {
      "cell_type": "markdown",
      "id": "8d68e8d79bd63ceb",
      "metadata": {
        "id": "8d68e8d79bd63ceb"
      },
      "source": [
        "## Arewa Data Science Academy\n",
        "### Deep Learning Cohort2.0\n",
        "\n",
        "#### Name: Hassan Muhammad Adam\n",
        "#### Email: hassanmuhammadadam1@gmail.com\n",
        "#### Title: Week 4 Solution"
      ]
    },
    {
      "cell_type": "markdown",
      "id": "cec8fa3e53e81a82",
      "metadata": {
        "id": "cec8fa3e53e81a82"
      },
      "source": [
        "### Exercises Solution"
      ]
    },
    {
      "cell_type": "markdown",
      "id": "b77b1912",
      "metadata": {
        "id": "b77b1912"
      },
      "source": [
        "Q1. What are 3 areas in industry where computer vision is currently being used?\n",
        "\n",
        "Computer vision is used in:\n",
        "\n",
        "1. Healthcare: For medical imaging analysis and disease diagnosis.\n",
        "2. Banking & Finance: For identity verification and fraud detection.\n",
        "3. Agriculture: For monitoring crop health and detecting pests."
      ]
    },
    {
      "cell_type": "markdown",
      "id": "dd8aaed2",
      "metadata": {
        "id": "dd8aaed2"
      },
      "source": [
        "Q2. Search \"what is overfitting in machine learning\" and write down a sentence about what you find.\n",
        "\n",
        "Overfitting in machine learning occurs when a model learns too much from the training data, negatively impacting its performance on unseen data."
      ]
    },
    {
      "cell_type": "markdown",
      "id": "edd93e7c",
      "metadata": {
        "id": "edd93e7c"
      },
      "source": [
        "Q3. Search \"ways to prevent overfitting in machine learning\", write down 3 of the things you find and a sentence about each.\n",
        "\n",
        "1. Dropout: Randomly deactivates a subset of neurons during training in neural networks to promote the learning of more generalized features.\n",
        "\n",
        "2. Data Augmentation: Enhances the diversity of the training data through random transformations, reducing the model’s reliance on specific data patterns.\n",
        "\n",
        "3. Simpler Model Architecture: Employs models with fewer parameters or layers to reduce the risk of overfitting and enhance generalization."
      ]
    },
    {
      "cell_type": "markdown",
      "id": "23a0a6c1",
      "metadata": {
        "id": "23a0a6c1"
      },
      "source": [
        "4. Spend 20-minutes reading and clicking through the CNN Explainer website.\n"
      ]
    },
    {
      "cell_type": "code",
      "execution_count": 1,
      "id": "e0f840fb48115860",
      "metadata": {
        "id": "e0f840fb48115860"
      },
      "outputs": [],
      "source": [
        "# Q5. Load the torchvision.datasets.MNIST() train and test datasets.\n",
        "\n",
        "\n",
        "import torchvision\n",
        "from torchvision import datasets\n",
        "\n",
        "from torchvision import transforms"
      ]
    },
    {
      "cell_type": "code",
      "execution_count": null,
      "id": "4608ca20",
      "metadata": {
        "id": "4608ca20"
      },
      "outputs": [],
      "source": [
        "# Get the MNIST train dataset\n",
        "train_data = datasets.MNIST(root=\".\",\n",
        "                            train=True,\n",
        "                            download=True,\n",
        "                            transform=transforms.ToTensor()) # do we want to transform the data as we download it?\n",
        "\n",
        "# Get the MNIST test dataset\n",
        "test_data = datasets.MNIST(root=\".\",\n",
        "                           train=False,\n",
        "                           download=True,\n",
        "                           transform=transforms.ToTensor())"
      ]
    },
    {
      "cell_type": "code",
      "execution_count": null,
      "id": "014e14e0",
      "metadata": {
        "id": "014e14e0"
      },
      "outputs": [],
      "source": [
        "print(\"Length of the dataset:\", len(train_data))\n",
        "print(\"Shape of the dataset:\", train_data.data.shape)\n"
      ]
    },
    {
      "cell_type": "code",
      "execution_count": null,
      "id": "c9e9e426",
      "metadata": {
        "id": "c9e9e426"
      },
      "outputs": [],
      "source": [
        "\n",
        "img = train_data[0][0]\n",
        "label = train_data[0][1]\n",
        "print(f\"Image:\\n {img}\")\n",
        "print(f\"Label:\\n {label}\")"
      ]
    },
    {
      "cell_type": "code",
      "execution_count": null,
      "id": "62a5d5ba",
      "metadata": {
        "colab": {
          "background_save": true
        },
        "id": "62a5d5ba"
      },
      "outputs": [],
      "source": [
        "print(f\"Image shape: {img.shape}\")\n",
        "class_names = train_data.classes\n",
        "print(class_names)"
      ]
    },
    {
      "cell_type": "code",
      "execution_count": null,
      "id": "1df81713",
      "metadata": {
        "colab": {
          "background_save": true
        },
        "id": "1df81713"
      },
      "outputs": [],
      "source": [
        "# Q6. Visualize at least 5 different samples of the MNIST training dataset.\n",
        "\n",
        "import matplotlib.pyplot as plt\n",
        "import numpy as np\n",
        "# Define the number of samples to visualize\n",
        "num_samples = 5\n",
        "\n",
        "# Generate random indices for the samples\n",
        "indices = np.random.randint(0, len(train_data), num_samples)\n",
        "\n",
        "# Plot the samples\n",
        "fig, axes = plt.subplots(1, num_samples, figsize=(12, 4))\n",
        "\n",
        "for i, index in enumerate(indices):\n",
        "    img = train_data[index][0].squeeze().numpy()\n",
        "    label = train_data[index][1]\n",
        "    axes[i].imshow(img, cmap='gray')\n",
        "    axes[i].set_title(f\"Label: {label}\")\n",
        "    axes[i].axis('off')\n",
        "\n",
        "plt.show()\n"
      ]
    },
    {
      "cell_type": "code",
      "execution_count": null,
      "id": "1564d560",
      "metadata": {
        "colab": {
          "background_save": true
        },
        "id": "1564d560"
      },
      "outputs": [],
      "source": [
        "import torch\n",
        "from torch.utils.data import DataLoader\n",
        "# Q7. Turn the MNIST train and test datasets into dataloaders using torch.utils.data.DataLoader, set the batch_size=32.\n",
        "\n",
        "batch_size = 32\n",
        "\n",
        "# Create dataloaders for train and test datasets\n",
        "train_dataloader = DataLoader(train_data, batch_size=batch_size, shuffle=True)\n",
        "test_dataloader = DataLoader(test_data, batch_size=batch_size, shuffle=False)\n",
        "\n",
        "print(\"the length of the train_dataloader is:\", len(train_dataloader))\n",
        "print(\"the length of the test_dataloader is:\", len(test_dataloader))\n",
        "for batch in train_dataloader:\n",
        "    print(batch[0].shape, batch[1].shape)\n",
        "    break"
      ]
    },
    {
      "cell_type": "code",
      "execution_count": null,
      "id": "08813d3d",
      "metadata": {
        "id": "08813d3d"
      },
      "outputs": [],
      "source": [
        "import torch\n",
        "# Q8. Recreate model_2 used in notebook 03 (the same model from the CNN Explainer website, also known as TinyVGG) capable of fitting on the MNIST dataset.\n",
        "\n",
        "from torch import nn\n",
        "\n",
        "from torch import nn\n",
        "class MNIST_model(torch.nn.Module):\n",
        "\n",
        "  def __init__(self, input_shape: int, hidden_units: int, output_shape: int):\n",
        "    super().__init__()\n",
        "    self.conv_block_1 = nn.Sequential(\n",
        "      nn.Conv2d(in_channels=input_shape,\n",
        "                out_channels=hidden_units,\n",
        "                kernel_size=3,\n",
        "                stride=1,\n",
        "                padding=1),\n",
        "      nn.ReLU(),\n",
        "      nn.Conv2d(in_channels=hidden_units,\n",
        "                out_channels=hidden_units,\n",
        "                kernel_size=3,\n",
        "                stride=1,\n",
        "                padding=1),\n",
        "      nn.ReLU(),\n",
        "      nn.MaxPool2d(kernel_size=2)\n",
        "    )\n",
        "    self.conv_block_2 = nn.Sequential(\n",
        "      nn.Conv2d(in_channels=hidden_units,\n",
        "                out_channels=hidden_units,\n",
        "                kernel_size=3,\n",
        "                stride=1,\n",
        "                padding=1),\n",
        "      nn.ReLU(),\n",
        "      nn.Conv2d(in_channels=hidden_units,\n",
        "                out_channels=hidden_units,\n",
        "                kernel_size=3,\n",
        "                stride=1,\n",
        "                padding=1),\n",
        "      nn.ReLU(),\n",
        "      nn.MaxPool2d(kernel_size=2)\n",
        "    )\n",
        "    self.classifier = nn.Sequential(\n",
        "      nn.Flatten(),\n",
        "      nn.Linear(in_features=hidden_units*7*7,\n",
        "                out_features=output_shape)\n",
        "    )\n",
        "\n",
        "  def forward(self, x):\n",
        "    x = self.conv_block_1(x)\n",
        "    x = self.conv_block_2(x)\n",
        "    x = self.classifier(x)\n",
        "    return x\n",
        "\n",
        "\n"
      ]
    },
    {
      "cell_type": "code",
      "execution_count": null,
      "id": "7af65de6",
      "metadata": {
        "id": "7af65de6"
      },
      "outputs": [],
      "source": [
        "model = MNIST_model(input_shape=1, hidden_units=32, output_shape=10)\n",
        "print(model)"
      ]
    },
    {
      "cell_type": "code",
      "execution_count": null,
      "id": "2f052bba",
      "metadata": {
        "id": "2f052bba"
      },
      "outputs": [],
      "source": [
        "print(\"Model's state_dict:\")\n",
        "for param_tensor in model.state_dict():\n",
        "    print(param_tensor, \"\\t\", model.state_dict()[param_tensor].size())"
      ]
    },
    {
      "cell_type": "code",
      "execution_count": null,
      "id": "1d6551d9",
      "metadata": {
        "id": "1d6551d9"
      },
      "outputs": [],
      "source": [
        "# Q9. Train the model you built in exercise 8. for 5 epochs on CPU and GPU and see how long it takes on each.\n",
        "\n",
        "import time\n",
        "from tqdm.auto import tqdm\n",
        "\n",
        "# Train on CPU\n",
        "model_cpu = MNIST_model(input_shape=1, hidden_units=32, output_shape=10)\n",
        "start_time = time.time()\n",
        "\n",
        "fn_loss = nn.CrossEntropyLoss()\n",
        "fn_optimizer = torch.optim.Adam(model_cpu.parameters(), lr=1e-3)\n",
        "\n",
        "\n",
        "epochs = 5\n",
        "for epoch in tqdm(range(epochs)):\n",
        "    train_loss = 0.0\n",
        "    model_cpu.train()\n",
        "    for batch in train_dataloader:\n",
        "        # Get the inputs and labels\n",
        "        inputs, labels = batch\n",
        "\n",
        "        # Zero the parameter gradients\n",
        "        fn_optimizer.zero_grad()\n",
        "\n",
        "        # Forward propagation\n",
        "        outputs = model_cpu(inputs)\n",
        "\n",
        "        # Calculate the loss\n",
        "        loss = fn_loss(outputs, labels)\n",
        "\n",
        "        # Backward propagation\n",
        "        loss.backward()\n",
        "\n",
        "        # Optimize the weights\n",
        "        fn_optimizer.step()\n",
        "\n",
        "        # Update the train loss\n",
        "        train_loss += loss.item() * inputs.size(0)\n",
        "\n",
        "    # Calculate the average losses\n",
        "    train_loss = train_loss / len(train_dataloader.dataset)\n",
        "\n",
        "    print(f\"Epoch: {epoch+1}/{epochs}, Train Loss: {train_loss:.4f}\")\n"
      ]
    },
    {
      "cell_type": "code",
      "execution_count": null,
      "id": "693301ae",
      "metadata": {
        "id": "693301ae"
      },
      "outputs": [],
      "source": [
        "# Q10. Make predictions using your trained model and visualize at least 5 of them comparing the prediciton to the target label.\n",
        "\n",
        "import matplotlib.pyplot as plt\n",
        "\n",
        "# Set the model to evaluation mode\n",
        "model_cpu.eval()\n",
        "\n",
        "# Generate random indices for the samples\n",
        "indices = np.random.randint(0, len(test_data), 5)\n",
        "\n",
        "# Plot the samples and their predictions\n",
        "fig, axes = plt.subplots(1, 5, figsize=(12, 4))\n",
        "\n",
        "for i, index in enumerate(indices):\n",
        "    img = test_data[index][0].unsqueeze(0)\n",
        "    label = test_data[index][1]\n",
        "\n",
        "    # Forward propagation\n",
        "    with torch.no_grad():\n",
        "        output = model_cpu(img)\n",
        "        _, predicted = torch.max(output, 1)\n",
        "\n",
        "    img = img.squeeze().numpy()\n",
        "    predicted = predicted.item()\n",
        "\n",
        "    axes[i].imshow(img, cmap='gray')\n",
        "    axes[i].set_title(f\"Predicted: {predicted}, Actual: {label}\")\n",
        "    axes[i].axis('off')\n",
        "\n",
        "plt.show()\n"
      ]
    },
    {
      "cell_type": "code",
      "execution_count": null,
      "id": "b80d4267",
      "metadata": {
        "id": "b80d4267",
        "outputId": "32f6f7a0-c13d-4795-b147-3c16f2eabb25",
        "colab": {
          "base_uri": "https://localhost:8080/",
          "height": 718
        }
      },
      "outputs": [
        {
          "output_type": "display_data",
          "data": {
            "text/plain": [
              "<Figure size 1000x800 with 1 Axes>"
            ],
            "image/png": "[encoded data removed]"
          },
          "metadata": {}
        }
      ],
      "source": [
        "from sklearn.metrics import confusion_matrix\n",
        "import seaborn as sns\n",
        "\n",
        "# Set the model to evaluation mode\n",
        "model_cpu.eval()\n",
        "\n",
        "# Create empty lists to store the predicted labels and true labels\n",
        "predicted_labels = []\n",
        "true_labels = []\n",
        "\n",
        "# Iterate over the test dataloader to get the predicted labels and true labels\n",
        "for batch in test_dataloader:\n",
        "    inputs, labels = batch\n",
        "\n",
        "    # Forward propagation\n",
        "    with torch.no_grad():\n",
        "        outputs = model_cpu(inputs)\n",
        "        _, predicted = torch.max(outputs, 1)\n",
        "\n",
        "    # Append the predicted labels and true labels to the lists\n",
        "    predicted_labels.extend(predicted.tolist())\n",
        "    true_labels.extend(labels.tolist())\n",
        "\n",
        "# Create the confusion matrix\n",
        "cm = confusion_matrix(true_labels, predicted_labels)\n",
        "\n",
        "# Plot the confusion matrix\n",
        "plt.figure(figsize=(10, 8))\n",
        "sns.heatmap(cm, annot=True, fmt='d', cmap='Blues', cbar=False)\n",
        "plt.xlabel('Predicted Labels')\n",
        "plt.ylabel('True Labels')\n",
        "plt.title('Confusion Matrix')\n",
        "plt.show()\n"
      ]
    },
    {
      "cell_type": "code",
      "execution_count": null,
      "id": "3d86d97e",
      "metadata": {
        "id": "3d86d97e"
      },
      "outputs": [],
      "source": [
        "import torch\n",
        "# Q12. Create a random tensor of shape `[1, 3, 64, 64]` and pass it through a `nn.Conv2d()` layer with various hyperparameter settings (these can be any settings you choose), what do you notice if the `kernel_size` parameter goes up and down?\n",
        "\n",
        "import torch.nn as nn\n",
        "\n",
        "# Create a random tensor\n",
        "input_tensor = torch.randn(1, 3, 64, 64)\n",
        "\n",
        "# Create the Conv2d layer\n",
        "conv_layer = nn.Conv2d(in_channels=3,\n",
        "                       out_channels=64,\n",
        "                       kernel_size=3,\n",
        "                       stride=2,\n",
        "                       padding=1)\n",
        "\n",
        "# Pass the input tensor through the Conv2d layer\n",
        "output_tensor = conv_layer(input_tensor)\n",
        "# Print the shape of input tensor\n",
        "print('random tensor input shape:',input_tensor.shape)\n",
        "# Print the shape of the output tensor\n",
        "print('random tensor output shape:(with conv_layer)',output_tensor.shape)\n",
        "\n",
        "\n"
      ]
    },
    {
      "cell_type": "markdown",
      "id": "1b869e28",
      "metadata": {
        "id": "1b869e28"
      },
      "source": [
        "# Q13. Use a model similar to the trained `model_2` from notebook 03 to make predictions on the test [`torchvision.datasets.FashionMNIST`](https://pytorch.org/vision/main/generated/torchvision.datasets.FashionMNIST.html) dataset."
      ]
    },
    {
      "cell_type": "markdown",
      "id": "9783d97c",
      "metadata": {
        "id": "9783d97c"
      },
      "source": [
        "faa"
      ]
    },
    {
      "cell_type": "code",
      "execution_count": null,
      "id": "804b7580",
      "metadata": {
        "id": "804b7580"
      },
      "outputs": [],
      "source": [
        "fashion_mnist_train = datasets.FashionMNIST(root=\".\",\n",
        "                                            train=True,\n",
        "                                            download=True,\n",
        "                                            transform=transforms.ToTensor())\n",
        "\n",
        "fashion_mnist_test = datasets.FashionMNIST(root=\".\",\n",
        "                                             train=False,\n",
        "                                             download=True,\n",
        "                                             transform=transforms.ToTensor())\n",
        "\n",
        "print(\"Length of the train dataset:\", len(fashion_mnist_train))\n",
        "print(\"Length of the test dataset:\", len(fashion_mnist_test))\n",
        "\n"
      ]
    },
    {
      "cell_type": "code",
      "execution_count": null,
      "id": "f793c484",
      "metadata": {
        "id": "f793c484"
      },
      "outputs": [],
      "source": [
        "fashion_mnist_class_names = fashion_mnist_train.classes\n",
        "print(fashion_mnist_class_names)"
      ]
    },
    {
      "cell_type": "code",
      "execution_count": null,
      "id": "8b79fd92",
      "metadata": {
        "id": "8b79fd92"
      },
      "outputs": [],
      "source": [
        "fashion_mnist_train_dataloader = DataLoader(fashion_mnist_train, batch_size=batch_size, shuffle=True)\n",
        "fashion_mnist_test_dataloader = DataLoader(fashion_mnist_test, batch_size=batch_size, shuffle=False)\n",
        "\n",
        "print(\"the length of the fashion_mnist_train_dataloader is:\", len(fashion_mnist_train_dataloader))\n",
        "print(\"the length of the fashion_mnist_test_dataloader is:\", len(fashion_mnist_test_dataloader))\n",
        "for batch in fashion_mnist_train_dataloader:\n",
        "    print(batch[0].shape, batch[1].shape)\n",
        "    break\n"
      ]
    },
    {
      "cell_type": "code",
      "execution_count": null,
      "id": "c32abada",
      "metadata": {
        "id": "c32abada"
      },
      "outputs": [],
      "source": [
        "model_fashion_mnist = MNIST_model(input_shape=1, hidden_units=32, output_shape=10)\n",
        "print(model_fashion_mnist)"
      ]
    },
    {
      "cell_type": "code",
      "execution_count": null,
      "id": "9827c2e8",
      "metadata": {
        "id": "9827c2e8"
      },
      "outputs": [],
      "source": [
        "loss_fn = nn.CrossEntropyLoss()\n",
        "optimizer = torch.optim.Adam(model_fashion_mnist.parameters(), lr=1e-3)"
      ]
    },
    {
      "cell_type": "code",
      "source": [
        "!pip install torchmetrics"
      ],
      "metadata": {
        "id": "_I2iGvMEjDVd"
      },
      "id": "_I2iGvMEjDVd",
      "execution_count": null,
      "outputs": []
    },
    {
      "cell_type": "code",
      "execution_count": null,
      "id": "31316218",
      "metadata": {
        "id": "31316218"
      },
      "outputs": [],
      "source": [
        "from tqdm.auto import tqdm\n",
        "from torchmetrics import Accuracy\n",
        "\n",
        "\n",
        "epochs = 5\n",
        "for epoch in tqdm(range(epochs)):\n",
        "    train_loss = 0.0\n",
        "    train_acc = Accuracy(num_classes=len(fashion_mnist_class_names),task='MULTICLASS')\n",
        "    model_fashion_mnist.train()\n",
        "    for batch in fashion_mnist_train_dataloader:\n",
        "        # Get the inputs and labels\n",
        "        inputs, labels = batch\n",
        "\n",
        "        # Zero the parameter gradients\n",
        "        optimizer.zero_grad()\n",
        "\n",
        "        # Forward propagation\n",
        "        outputs = model_fashion_mnist(inputs)\n",
        "\n",
        "        # Calculate the loss\n",
        "        loss = loss_fn(outputs, labels)\n",
        "\n",
        "        # Backward propagation\n",
        "        loss.backward()\n",
        "\n",
        "        # Optimize the weights\n",
        "        optimizer.step()\n",
        "\n",
        "        # Update the train loss\n",
        "        train_loss += loss.item() * inputs.size(0)\n",
        "\n",
        "        # Update the train accuracy\n",
        "        train_acc.update(outputs, labels)\n",
        "\n",
        "    # Calculate the average losses\n",
        "    train_loss = train_loss / len(fashion_mnist_train_dataloader.dataset)\n",
        "\n",
        "    # Calculate the train accuracy\n",
        "    train_acc = train_acc.compute()\n",
        "\n",
        "    print(f\"Epoch: {epoch+1}/{epochs}, Train Loss: {train_loss:.4f}, Train Accuracy: {train_acc:.4f}\")"
      ]
    },
    {
      "cell_type": "code",
      "execution_count": null,
      "id": "62df2b91",
      "metadata": {
        "colab": {
          "base_uri": "https://localhost:8080/",
          "height": 67,
          "referenced_widgets": [
            "6fb9cf5b0f7449538c7b2b34d3cc03bc",
            "05a1134b53434b8abb3afc1b537f9996",
            "75582d912af44e1ba4b82410f73ceb2c",
            "ce3cd442ef974991aa3a2f8d77bfe674",
            "615ef078f7f74847840f7c93f7da04d2",
            "bc0880a20f75494cbe7a40f5a835cf05",
            "26ecb1ae7a0544e5a2cfcf64af9ad7a9",
            "fa3cf07d3421414b88bea7593707e60a",
            "17f0e75dd9ce4679987fb837f5f0c2bd",
            "c24a928c41104e1f9877f25d7bac73c2",
            "365b2da3893749e2b86b303bab832520"
          ]
        },
        "id": "62df2b91",
        "outputId": "1c52aa74-df97-4390-951a-0eb8ac9b5bec"
      },
      "outputs": [
        {
          "output_type": "display_data",
          "data": {
            "text/plain": [
              "  0%|          | 0/313 [00:00<?, ?it/s]"
            ],
            "application/vnd.jupyter.widget-view+json": {
              "version_major": 2,
              "version_minor": 0,
              "model_id": "6fb9cf5b0f7449538c7b2b34d3cc03bc"
            }
          },
          "metadata": {}
        },
        {
          "output_type": "execute_result",
          "data": {
            "text/plain": [
              "(tensor([9, 2, 1, 1, 6, 1, 4, 6, 5, 7]), 10000)"
            ]
          },
          "metadata": {},
          "execution_count": 23
        }
      ],
      "source": [
        "# Make predictions with trained model\n",
        "test_preds = []\n",
        "model_fashion_mnist.eval()\n",
        "with torch.inference_mode():\n",
        "  for X_test, y_test in tqdm(fashion_mnist_test_dataloader):\n",
        "    y_logits = model_fashion_mnist(X_test)\n",
        "    y_pred_probs = torch.softmax(y_logits, dim=1)\n",
        "    y_pred_labels = torch.argmax(y_pred_probs, dim=1)\n",
        "    test_preds.append(y_pred_labels)\n",
        "test_preds = torch.cat(test_preds)\n",
        "test_preds[:10], len(test_preds)"
      ]
    },
    {
      "cell_type": "code",
      "execution_count": null,
      "id": "5c797000",
      "metadata": {
        "id": "5c797000"
      },
      "outputs": [],
      "source": [
        "# plot some predictions where the model was wrong alongside what the label of the image should've been.\n",
        "\n",
        "import random\n",
        "\n",
        "wrong_pred_indexes = np.where(test_preds != fashion_mnist_test.targets)[0]\n",
        "\n",
        "random_selection = random.sample(list(wrong_pred_indexes), k=9)\n",
        "\n",
        "plt.figure(figsize=(10, 10))\n",
        "for i, idx in enumerate(random_selection):\n",
        "  # Get true and pred labels\n",
        "  true_label = fashion_mnist_class_names[fashion_mnist_test[idx][1]]\n",
        "  pred_label = fashion_mnist_class_names[test_preds[idx]]\n",
        "\n",
        "  # Plot the wrong prediction with its original label\n",
        "  plt.subplot(3, 3, i+1)\n",
        "  plt.imshow(fashion_mnist_test[idx][0].squeeze(), cmap=\"gray\")\n",
        "  plt.title(f\"True: {true_label} | Pred: {pred_label}\", c=\"r\")\n",
        "  plt.axis(False);"
      ]
    }
  ],
  "metadata": {
    "colab": {
      "provenance": []
    },
    "kernelspec": {
      "display_name": "Python 3 (ipykernel)",
      "language": "python",
      "name": "python3"
    },
    "language_info": {
      "codemirror_mode": {
        "name": "ipython",
        "version": 3
      },
      "file_extension": ".py",
      "mimetype": "text/x-python",
      "name": "python",
      "nbconvert_exporter": "python",
      "pygments_lexer": "ipython3",
      "version": "3.8.10"
    },
    "widgets": {
      "application/vnd.jupyter.widget-state+json": {
        "6fb9cf5b0f7449538c7b2b34d3cc03bc": {
          "model_module": "@jupyter-widgets/controls",
          "model_name": "HBoxModel",
          "model_module_version": "1.5.0",
          "state": {
            "_dom_classes": [],
            "_model_module": "@jupyter-widgets/controls",
            "_model_module_version": "1.5.0",
            "_model_name": "HBoxModel",
            "_view_count": null,
            "_view_module": "@jupyter-widgets/controls",
            "_view_module_version": "1.5.0",
            "_view_name": "HBoxView",
            "box_style": "",
            "children": [
              "IPY_MODEL_05a1134b53434b8abb3afc1b537f9996",
              "IPY_MODEL_75582d912af44e1ba4b82410f73ceb2c",
              "IPY_MODEL_ce3cd442ef974991aa3a2f8d77bfe674"
            ],
            "layout": "IPY_MODEL_615ef078f7f74847840f7c93f7da04d2"
          }
        },
        "05a1134b53434b8abb3afc1b537f9996": {
          "model_module": "@jupyter-widgets/controls",
          "model_name": "HTMLModel",
          "model_module_version": "1.5.0",
          "state": {
            "_dom_classes": [],
            "_model_module": "@jupyter-widgets/controls",
            "_model_module_version": "1.5.0",
            "_model_name": "HTMLModel",
            "_view_count": null,
            "_view_module": "@jupyter-widgets/controls",
            "_view_module_version": "1.5.0",
            "_view_name": "HTMLView",
            "description": "",
            "description_tooltip": null,
            "layout": "IPY_MODEL_bc0880a20f75494cbe7a40f5a835cf05",
            "placeholder": "​",
            "style": "IPY_MODEL_26ecb1ae7a0544e5a2cfcf64af9ad7a9",
            "value": "100%"
          }
        },
        "75582d912af44e1ba4b82410f73ceb2c": {
          "model_module": "@jupyter-widgets/controls",
          "model_name": "FloatProgressModel",
          "model_module_version": "1.5.0",
          "state": {
            "_dom_classes": [],
            "_model_module": "@jupyter-widgets/controls",
            "_model_module_version": "1.5.0",
            "_model_name": "FloatProgressModel",
            "_view_count": null,
            "_view_module": "@jupyter-widgets/controls",
            "_view_module_version": "1.5.0",
            "_view_name": "ProgressView",
            "bar_style": "success",
            "description": "",
            "description_tooltip": null,
            "layout": "IPY_MODEL_fa3cf07d3421414b88bea7593707e60a",
            "max": 313,
            "min": 0,
            "orientation": "horizontal",
            "style": "IPY_MODEL_17f0e75dd9ce4679987fb837f5f0c2bd",
            "value": 313
          }
        },
        "ce3cd442ef974991aa3a2f8d77bfe674": {
          "model_module": "@jupyter-widgets/controls",
          "model_name": "HTMLModel",
          "model_module_version": "1.5.0",
          "state": {
            "_dom_classes": [],
            "_model_module": "@jupyter-widgets/controls",
            "_model_module_version": "1.5.0",
            "_model_name": "HTMLModel",
            "_view_count": null,
            "_view_module": "@jupyter-widgets/controls",
            "_view_module_version": "1.5.0",
            "_view_name": "HTMLView",
            "description": "",
            "description_tooltip": null,
            "layout": "IPY_MODEL_c24a928c41104e1f9877f25d7bac73c2",
            "placeholder": "​",
            "style": "IPY_MODEL_365b2da3893749e2b86b303bab832520",
            "value": " 313/313 [00:08&lt;00:00, 26.87it/s]"
          }
        },
        "615ef078f7f74847840f7c93f7da04d2": {
          "model_module": "@jupyter-widgets/base",
          "model_name": "LayoutModel",
          "model_module_version": "1.2.0",
          "state": {
            "_model_module": "@jupyter-widgets/base",
            "_model_module_version": "1.2.0",
            "_model_name": "LayoutModel",
            "_view_count": null,
            "_view_module": "@jupyter-widgets/base",
            "_view_module_version": "1.2.0",
            "_view_name": "LayoutView",
            "align_content": null,
            "align_items": null,
            "align_self": null,
            "border": null,
            "bottom": null,
            "display": null,
            "flex": null,
            "flex_flow": null,
            "grid_area": null,
            "grid_auto_columns": null,
            "grid_auto_flow": null,
            "grid_auto_rows": null,
            "grid_column": null,
            "grid_gap": null,
            "grid_row": null,
            "grid_template_areas": null,
            "grid_template_columns": null,
            "grid_template_rows": null,
            "height": null,
            "justify_content": null,
            "justify_items": null,
            "left": null,
            "margin": null,
            "max_height": null,
            "max_width": null,
            "min_height": null,
            "min_width": null,
            "object_fit": null,
            "object_position": null,
            "order": null,
            "overflow": null,
            "overflow_x": null,
            "overflow_y": null,
            "padding": null,
            "right": null,
            "top": null,
            "visibility": null,
            "width": null
          }
        },
        "bc0880a20f75494cbe7a40f5a835cf05": {
          "model_module": "@jupyter-widgets/base",
          "model_name": "LayoutModel",
          "model_module_version": "1.2.0",
          "state": {
            "_model_module": "@jupyter-widgets/base",
            "_model_module_version": "1.2.0",
            "_model_name": "LayoutModel",
            "_view_count": null,
            "_view_module": "@jupyter-widgets/base",
            "_view_module_version": "1.2.0",
            "_view_name": "LayoutView",
            "align_content": null,
            "align_items": null,
            "align_self": null,
            "border": null,
            "bottom": null,
            "display": null,
            "flex": null,
            "flex_flow": null,
            "grid_area": null,
            "grid_auto_columns": null,
            "grid_auto_flow": null,
            "grid_auto_rows": null,
            "grid_column": null,
            "grid_gap": null,
            "grid_row": null,
            "grid_template_areas": null,
            "grid_template_columns": null,
            "grid_template_rows": null,
            "height": null,
            "justify_content": null,
            "justify_items": null,
            "left": null,
            "margin": null,
            "max_height": null,
            "max_width": null,
            "min_height": null,
            "min_width": null,
            "object_fit": null,
            "object_position": null,
            "order": null,
            "overflow": null,
            "overflow_x": null,
            "overflow_y": null,
            "padding": null,
            "right": null,
            "top": null,
            "visibility": null,
            "width": null
          }
        },
        "26ecb1ae7a0544e5a2cfcf64af9ad7a9": {
          "model_module": "@jupyter-widgets/controls",
          "model_name": "DescriptionStyleModel",
          "model_module_version": "1.5.0",
          "state": {
            "_model_module": "@jupyter-widgets/controls",
            "_model_module_version": "1.5.0",
            "_model_name": "DescriptionStyleModel",
            "_view_count": null,
            "_view_module": "@jupyter-widgets/base",
            "_view_module_version": "1.2.0",
            "_view_name": "StyleView",
            "description_width": ""
          }
        },
        "fa3cf07d3421414b88bea7593707e60a": {
          "model_module": "@jupyter-widgets/base",
          "model_name": "LayoutModel",
          "model_module_version": "1.2.0",
          "state": {
            "_model_module": "@jupyter-widgets/base",
            "_model_module_version": "1.2.0",
            "_model_name": "LayoutModel",
            "_view_count": null,
            "_view_module": "@jupyter-widgets/base",
            "_view_module_version": "1.2.0",
            "_view_name": "LayoutView",
            "align_content": null,
            "align_items": null,
            "align_self": null,
            "border": null,
            "bottom": null,
            "display": null,
            "flex": null,
            "flex_flow": null,
            "grid_area": null,
            "grid_auto_columns": null,
            "grid_auto_flow": null,
            "grid_auto_rows": null,
            "grid_column": null,
            "grid_gap": null,
            "grid_row": null,
            "grid_template_areas": null,
            "grid_template_columns": null,
            "grid_template_rows": null,
            "height": null,
            "justify_content": null,
            "justify_items": null,
            "left": null,
            "margin": null,
            "max_height": null,
            "max_width": null,
            "min_height": null,
            "min_width": null,
            "object_fit": null,
            "object_position": null,
            "order": null,
            "overflow": null,
            "overflow_x": null,
            "overflow_y": null,
            "padding": null,
            "right": null,
            "top": null,
            "visibility": null,
            "width": null
          }
        },
        "17f0e75dd9ce4679987fb837f5f0c2bd": {
          "model_module": "@jupyter-widgets/controls",
          "model_name": "ProgressStyleModel",
          "model_module_version": "1.5.0",
          "state": {
            "_model_module": "@jupyter-widgets/controls",
            "_model_module_version": "1.5.0",
            "_model_name": "ProgressStyleModel",
            "_view_count": null,
            "_view_module": "@jupyter-widgets/base",
            "_view_module_version": "1.2.0",
            "_view_name": "StyleView",
            "bar_color": null,
            "description_width": ""
          }
        },
        "c24a928c41104e1f9877f25d7bac73c2": {
          "model_module": "@jupyter-widgets/base",
          "model_name": "LayoutModel",
          "model_module_version": "1.2.0",
          "state": {
            "_model_module": "@jupyter-widgets/base",
            "_model_module_version": "1.2.0",
            "_model_name": "LayoutModel",
            "_view_count": null,
            "_view_module": "@jupyter-widgets/base",
            "_view_module_version": "1.2.0",
            "_view_name": "LayoutView",
            "align_content": null,
            "align_items": null,
            "align_self": null,
            "border": null,
            "bottom": null,
            "display": null,
            "flex": null,
            "flex_flow": null,
            "grid_area": null,
            "grid_auto_columns": null,
            "grid_auto_flow": null,
            "grid_auto_rows": null,
            "grid_column": null,
            "grid_gap": null,
            "grid_row": null,
            "grid_template_areas": null,
            "grid_template_columns": null,
            "grid_template_rows": null,
            "height": null,
            "justify_content": null,
            "justify_items": null,
            "left": null,
            "margin": null,
            "max_height": null,
            "max_width": null,
            "min_height": null,
            "min_width": null,
            "object_fit": null,
            "object_position": null,
            "order": null,
            "overflow": null,
            "overflow_x": null,
            "overflow_y": null,
            "padding": null,
            "right": null,
            "top": null,
            "visibility": null,
            "width": null
          }
        },
        "365b2da3893749e2b86b303bab832520": {
          "model_module": "@jupyter-widgets/controls",
          "model_name": "DescriptionStyleModel",
          "model_module_version": "1.5.0",
          "state": {
            "_model_module": "@jupyter-widgets/controls",
            "_model_module_version": "1.5.0",
            "_model_name": "DescriptionStyleModel",
            "_view_count": null,
            "_view_module": "@jupyter-widgets/base",
            "_view_module_version": "1.2.0",
            "_view_name": "StyleView",
            "description_width": ""
          }
        }
      }
    }
  },
  "nbformat": 4,
  "nbformat_minor": 5
}